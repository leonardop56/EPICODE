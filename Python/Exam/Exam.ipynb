{
 "cells": [
  {
   "cell_type": "markdown",
   "id": "61ecb7b2-8c9e-4bf2-a27f-2175a6efdc6c",
   "metadata": {},
   "source": [
    "Il committente richiede di avere un report su casi e vaccinazioni in diverse aree del mondo; a tal fine, richiede di utilizzare il dataset, curato da Our World in Data, all'indirizzo https://github.com/owid/covid-19-data/tree/master/public/data alla voce \"Download ourcomplete COVID-19 dataset\". Scaricare il dataset nel formato che si preferisce.\n",
    "\n",
    "1. Si richiede di verificare le dimensioni del dataset e i relativi metadati\n",
    "\n",
    "2. Si chiede di trovare, per ogni continente:\n",
    "   \n",
    "   a. il numero di casi fin dall'inizio della pandemia\n",
    "   \n",
    "   b. la percentuale rispetto al totale mondiale del numero di casi\n",
    "\n",
    "3. Selezionare i dati relativi all'Italia nel 2022 e mostrare con dei grafici adeguati:\n",
    "\n",
    "   a. l'evoluzione del casi totali dall'inizio alla fine dell'anno\n",
    "   \n",
    "   b. il numero di nuovi casi rispetto alla data\n",
    "   \n",
    "   (poiché i nuovi casi vengono registrati settimanalmente, filtrare via i dati che non hanno misurazioni)\n",
    "\n",
    "4. Riguardo le nazioni di Italia, Germania e Francia mostrare in un boxplot la differenza tra queste nazioni riguardo il numero di pazienti in terapia intensiva (Intensive Care Unit, ICU) da maggio 2022 (incluso) ad aprile 2023 (incluso)\n",
    "\n",
    "   a. scrivere un breve commento a riguardo\n",
    "\n",
    "\n",
    "5. Riguardo le nazioni di Italia, Germania, Francia e Spagna in tutto il 2023:\n",
    "\n",
    "   a. mostrare la somma dei pazienti ospitalizzati per ognuna\n",
    "\n",
    "   b. se ci sono dati nulli, con un breve commento scrivere se può essere possibile gestirli tramite sostituzione o meno"
   ]
  },
  {
   "cell_type": "code",
   "execution_count": 2,
   "id": "7ead627b-1f0e-45f0-ab03-02be8d5924db",
   "metadata": {},
   "outputs": [],
   "source": [
    "#importo i pacchetti necessari\n",
    "import pandas as pd\n",
    "import seaborn as sns\n",
    "import matplotlib.pyplot as plt"
   ]
  },
  {
   "cell_type": "code",
   "execution_count": 4,
   "id": "42a10fca-912e-425a-bbf4-7cd03353ad40",
   "metadata": {},
   "outputs": [],
   "source": [
    "#leggo il dataset in forma di dataframe direttamente dal browser\n",
    "covid = pd.read_csv(\"https://covid.ourworldindata.org/data/owid-covid-data.csv\")"
   ]
  },
  {
   "cell_type": "code",
   "execution_count": 6,
   "id": "06b3c8f9-adb1-4ba9-bc30-6a22302e19a3",
   "metadata": {},
   "outputs": [
    {
     "data": {
      "text/html": [
       "<div>\n",
       "<style scoped>\n",
       "    .dataframe tbody tr th:only-of-type {\n",
       "        vertical-align: middle;\n",
       "    }\n",
       "\n",
       "    .dataframe tbody tr th {\n",
       "        vertical-align: top;\n",
       "    }\n",
       "\n",
       "    .dataframe thead th {\n",
       "        text-align: right;\n",
       "    }\n",
       "</style>\n",
       "<table border=\"1\" class=\"dataframe\">\n",
       "  <thead>\n",
       "    <tr style=\"text-align: right;\">\n",
       "      <th></th>\n",
       "      <th>iso_code</th>\n",
       "      <th>continent</th>\n",
       "      <th>location</th>\n",
       "      <th>date</th>\n",
       "      <th>total_cases</th>\n",
       "      <th>new_cases</th>\n",
       "      <th>new_cases_smoothed</th>\n",
       "      <th>total_deaths</th>\n",
       "      <th>new_deaths</th>\n",
       "      <th>new_deaths_smoothed</th>\n",
       "      <th>...</th>\n",
       "      <th>male_smokers</th>\n",
       "      <th>handwashing_facilities</th>\n",
       "      <th>hospital_beds_per_thousand</th>\n",
       "      <th>life_expectancy</th>\n",
       "      <th>human_development_index</th>\n",
       "      <th>population</th>\n",
       "      <th>excess_mortality_cumulative_absolute</th>\n",
       "      <th>excess_mortality_cumulative</th>\n",
       "      <th>excess_mortality</th>\n",
       "      <th>excess_mortality_cumulative_per_million</th>\n",
       "    </tr>\n",
       "  </thead>\n",
       "  <tbody>\n",
       "    <tr>\n",
       "      <th>0</th>\n",
       "      <td>AFG</td>\n",
       "      <td>Asia</td>\n",
       "      <td>Afghanistan</td>\n",
       "      <td>2020-01-05</td>\n",
       "      <td>0.0</td>\n",
       "      <td>0.0</td>\n",
       "      <td>NaN</td>\n",
       "      <td>0.0</td>\n",
       "      <td>0.0</td>\n",
       "      <td>NaN</td>\n",
       "      <td>...</td>\n",
       "      <td>NaN</td>\n",
       "      <td>37.746</td>\n",
       "      <td>0.5</td>\n",
       "      <td>64.83</td>\n",
       "      <td>0.511</td>\n",
       "      <td>41128772</td>\n",
       "      <td>NaN</td>\n",
       "      <td>NaN</td>\n",
       "      <td>NaN</td>\n",
       "      <td>NaN</td>\n",
       "    </tr>\n",
       "    <tr>\n",
       "      <th>1</th>\n",
       "      <td>AFG</td>\n",
       "      <td>Asia</td>\n",
       "      <td>Afghanistan</td>\n",
       "      <td>2020-01-06</td>\n",
       "      <td>0.0</td>\n",
       "      <td>0.0</td>\n",
       "      <td>NaN</td>\n",
       "      <td>0.0</td>\n",
       "      <td>0.0</td>\n",
       "      <td>NaN</td>\n",
       "      <td>...</td>\n",
       "      <td>NaN</td>\n",
       "      <td>37.746</td>\n",
       "      <td>0.5</td>\n",
       "      <td>64.83</td>\n",
       "      <td>0.511</td>\n",
       "      <td>41128772</td>\n",
       "      <td>NaN</td>\n",
       "      <td>NaN</td>\n",
       "      <td>NaN</td>\n",
       "      <td>NaN</td>\n",
       "    </tr>\n",
       "    <tr>\n",
       "      <th>2</th>\n",
       "      <td>AFG</td>\n",
       "      <td>Asia</td>\n",
       "      <td>Afghanistan</td>\n",
       "      <td>2020-01-07</td>\n",
       "      <td>0.0</td>\n",
       "      <td>0.0</td>\n",
       "      <td>NaN</td>\n",
       "      <td>0.0</td>\n",
       "      <td>0.0</td>\n",
       "      <td>NaN</td>\n",
       "      <td>...</td>\n",
       "      <td>NaN</td>\n",
       "      <td>37.746</td>\n",
       "      <td>0.5</td>\n",
       "      <td>64.83</td>\n",
       "      <td>0.511</td>\n",
       "      <td>41128772</td>\n",
       "      <td>NaN</td>\n",
       "      <td>NaN</td>\n",
       "      <td>NaN</td>\n",
       "      <td>NaN</td>\n",
       "    </tr>\n",
       "    <tr>\n",
       "      <th>3</th>\n",
       "      <td>AFG</td>\n",
       "      <td>Asia</td>\n",
       "      <td>Afghanistan</td>\n",
       "      <td>2020-01-08</td>\n",
       "      <td>0.0</td>\n",
       "      <td>0.0</td>\n",
       "      <td>NaN</td>\n",
       "      <td>0.0</td>\n",
       "      <td>0.0</td>\n",
       "      <td>NaN</td>\n",
       "      <td>...</td>\n",
       "      <td>NaN</td>\n",
       "      <td>37.746</td>\n",
       "      <td>0.5</td>\n",
       "      <td>64.83</td>\n",
       "      <td>0.511</td>\n",
       "      <td>41128772</td>\n",
       "      <td>NaN</td>\n",
       "      <td>NaN</td>\n",
       "      <td>NaN</td>\n",
       "      <td>NaN</td>\n",
       "    </tr>\n",
       "    <tr>\n",
       "      <th>4</th>\n",
       "      <td>AFG</td>\n",
       "      <td>Asia</td>\n",
       "      <td>Afghanistan</td>\n",
       "      <td>2020-01-09</td>\n",
       "      <td>0.0</td>\n",
       "      <td>0.0</td>\n",
       "      <td>NaN</td>\n",
       "      <td>0.0</td>\n",
       "      <td>0.0</td>\n",
       "      <td>NaN</td>\n",
       "      <td>...</td>\n",
       "      <td>NaN</td>\n",
       "      <td>37.746</td>\n",
       "      <td>0.5</td>\n",
       "      <td>64.83</td>\n",
       "      <td>0.511</td>\n",
       "      <td>41128772</td>\n",
       "      <td>NaN</td>\n",
       "      <td>NaN</td>\n",
       "      <td>NaN</td>\n",
       "      <td>NaN</td>\n",
       "    </tr>\n",
       "  </tbody>\n",
       "</table>\n",
       "<p>5 rows × 67 columns</p>\n",
       "</div>"
      ],
      "text/plain": [
       "  iso_code continent     location        date  total_cases  new_cases  \\\n",
       "0      AFG      Asia  Afghanistan  2020-01-05          0.0        0.0   \n",
       "1      AFG      Asia  Afghanistan  2020-01-06          0.0        0.0   \n",
       "2      AFG      Asia  Afghanistan  2020-01-07          0.0        0.0   \n",
       "3      AFG      Asia  Afghanistan  2020-01-08          0.0        0.0   \n",
       "4      AFG      Asia  Afghanistan  2020-01-09          0.0        0.0   \n",
       "\n",
       "   new_cases_smoothed  total_deaths  new_deaths  new_deaths_smoothed  ...  \\\n",
       "0                 NaN           0.0         0.0                  NaN  ...   \n",
       "1                 NaN           0.0         0.0                  NaN  ...   \n",
       "2                 NaN           0.0         0.0                  NaN  ...   \n",
       "3                 NaN           0.0         0.0                  NaN  ...   \n",
       "4                 NaN           0.0         0.0                  NaN  ...   \n",
       "\n",
       "   male_smokers  handwashing_facilities  hospital_beds_per_thousand  \\\n",
       "0           NaN                  37.746                         0.5   \n",
       "1           NaN                  37.746                         0.5   \n",
       "2           NaN                  37.746                         0.5   \n",
       "3           NaN                  37.746                         0.5   \n",
       "4           NaN                  37.746                         0.5   \n",
       "\n",
       "   life_expectancy  human_development_index  population  \\\n",
       "0            64.83                    0.511    41128772   \n",
       "1            64.83                    0.511    41128772   \n",
       "2            64.83                    0.511    41128772   \n",
       "3            64.83                    0.511    41128772   \n",
       "4            64.83                    0.511    41128772   \n",
       "\n",
       "   excess_mortality_cumulative_absolute  excess_mortality_cumulative  \\\n",
       "0                                   NaN                          NaN   \n",
       "1                                   NaN                          NaN   \n",
       "2                                   NaN                          NaN   \n",
       "3                                   NaN                          NaN   \n",
       "4                                   NaN                          NaN   \n",
       "\n",
       "   excess_mortality  excess_mortality_cumulative_per_million  \n",
       "0               NaN                                      NaN  \n",
       "1               NaN                                      NaN  \n",
       "2               NaN                                      NaN  \n",
       "3               NaN                                      NaN  \n",
       "4               NaN                                      NaN  \n",
       "\n",
       "[5 rows x 67 columns]"
      ]
     },
     "execution_count": 6,
     "metadata": {},
     "output_type": "execute_result"
    }
   ],
   "source": [
    "#do un'occhiata al dataframe\n",
    "covid.head()"
   ]
  },
  {
   "cell_type": "code",
   "execution_count": null,
   "id": "8f5a8e1e-6e52-4968-872a-20d231dc45bb",
   "metadata": {},
   "outputs": [],
   "source": []
  },
  {
   "cell_type": "code",
   "execution_count": 9,
   "id": "109f9b8e-46ab-4214-87da-48567f33684c",
   "metadata": {},
   "outputs": [],
   "source": [
    "#1) Si richiede di verificare le dimensioni del dataset e i relativi metadati"
   ]
  },
  {
   "cell_type": "code",
   "execution_count": 11,
   "id": "a8bf500d-2dd3-47a9-b193-4f3101d15e19",
   "metadata": {},
   "outputs": [
    {
     "data": {
      "text/plain": [
       "(429435, 67)"
      ]
     },
     "execution_count": 11,
     "metadata": {},
     "output_type": "execute_result"
    }
   ],
   "source": [
    "#stampo le dimensioni del dataset\n",
    "covid.shape"
   ]
  },
  {
   "cell_type": "code",
   "execution_count": 13,
   "id": "34a40c7c-8d14-4b26-804d-cfebe60cb35f",
   "metadata": {},
   "outputs": [
    {
     "data": {
      "text/plain": [
       "Index(['iso_code', 'continent', 'location', 'date', 'total_cases', 'new_cases',\n",
       "       'new_cases_smoothed', 'total_deaths', 'new_deaths',\n",
       "       'new_deaths_smoothed', 'total_cases_per_million',\n",
       "       'new_cases_per_million', 'new_cases_smoothed_per_million',\n",
       "       'total_deaths_per_million', 'new_deaths_per_million',\n",
       "       'new_deaths_smoothed_per_million', 'reproduction_rate', 'icu_patients',\n",
       "       'icu_patients_per_million', 'hosp_patients',\n",
       "       'hosp_patients_per_million', 'weekly_icu_admissions',\n",
       "       'weekly_icu_admissions_per_million', 'weekly_hosp_admissions',\n",
       "       'weekly_hosp_admissions_per_million', 'total_tests', 'new_tests',\n",
       "       'total_tests_per_thousand', 'new_tests_per_thousand',\n",
       "       'new_tests_smoothed', 'new_tests_smoothed_per_thousand',\n",
       "       'positive_rate', 'tests_per_case', 'tests_units', 'total_vaccinations',\n",
       "       'people_vaccinated', 'people_fully_vaccinated', 'total_boosters',\n",
       "       'new_vaccinations', 'new_vaccinations_smoothed',\n",
       "       'total_vaccinations_per_hundred', 'people_vaccinated_per_hundred',\n",
       "       'people_fully_vaccinated_per_hundred', 'total_boosters_per_hundred',\n",
       "       'new_vaccinations_smoothed_per_million',\n",
       "       'new_people_vaccinated_smoothed',\n",
       "       'new_people_vaccinated_smoothed_per_hundred', 'stringency_index',\n",
       "       'population_density', 'median_age', 'aged_65_older', 'aged_70_older',\n",
       "       'gdp_per_capita', 'extreme_poverty', 'cardiovasc_death_rate',\n",
       "       'diabetes_prevalence', 'female_smokers', 'male_smokers',\n",
       "       'handwashing_facilities', 'hospital_beds_per_thousand',\n",
       "       'life_expectancy', 'human_development_index', 'population',\n",
       "       'excess_mortality_cumulative_absolute', 'excess_mortality_cumulative',\n",
       "       'excess_mortality', 'excess_mortality_cumulative_per_million'],\n",
       "      dtype='object')"
      ]
     },
     "execution_count": 13,
     "metadata": {},
     "output_type": "execute_result"
    }
   ],
   "source": [
    "#stampo tutte le colonne presenti nel dataset\n",
    "covid.columns"
   ]
  },
  {
   "cell_type": "code",
   "execution_count": 15,
   "id": "a9a57860-92be-4bac-a9ea-55c115858249",
   "metadata": {},
   "outputs": [
    {
     "name": "stdout",
     "output_type": "stream",
     "text": [
      "<class 'pandas.core.frame.DataFrame'>\n",
      "RangeIndex: 429435 entries, 0 to 429434\n",
      "Data columns (total 67 columns):\n",
      " #   Column                                      Non-Null Count   Dtype  \n",
      "---  ------                                      --------------   -----  \n",
      " 0   iso_code                                    429435 non-null  object \n",
      " 1   continent                                   402910 non-null  object \n",
      " 2   location                                    429435 non-null  object \n",
      " 3   date                                        429435 non-null  object \n",
      " 4   total_cases                                 411804 non-null  float64\n",
      " 5   new_cases                                   410159 non-null  float64\n",
      " 6   new_cases_smoothed                          408929 non-null  float64\n",
      " 7   total_deaths                                411804 non-null  float64\n",
      " 8   new_deaths                                  410608 non-null  float64\n",
      " 9   new_deaths_smoothed                         409378 non-null  float64\n",
      " 10  total_cases_per_million                     411804 non-null  float64\n",
      " 11  new_cases_per_million                       410159 non-null  float64\n",
      " 12  new_cases_smoothed_per_million              408929 non-null  float64\n",
      " 13  total_deaths_per_million                    411804 non-null  float64\n",
      " 14  new_deaths_per_million                      410608 non-null  float64\n",
      " 15  new_deaths_smoothed_per_million             409378 non-null  float64\n",
      " 16  reproduction_rate                           184817 non-null  float64\n",
      " 17  icu_patients                                39116 non-null   float64\n",
      " 18  icu_patients_per_million                    39116 non-null   float64\n",
      " 19  hosp_patients                               40656 non-null   float64\n",
      " 20  hosp_patients_per_million                   40656 non-null   float64\n",
      " 21  weekly_icu_admissions                       10993 non-null   float64\n",
      " 22  weekly_icu_admissions_per_million           10993 non-null   float64\n",
      " 23  weekly_hosp_admissions                      24497 non-null   float64\n",
      " 24  weekly_hosp_admissions_per_million          24497 non-null   float64\n",
      " 25  total_tests                                 79387 non-null   float64\n",
      " 26  new_tests                                   75403 non-null   float64\n",
      " 27  total_tests_per_thousand                    79387 non-null   float64\n",
      " 28  new_tests_per_thousand                      75403 non-null   float64\n",
      " 29  new_tests_smoothed                          103965 non-null  float64\n",
      " 30  new_tests_smoothed_per_thousand             103965 non-null  float64\n",
      " 31  positive_rate                               95927 non-null   float64\n",
      " 32  tests_per_case                              94348 non-null   float64\n",
      " 33  tests_units                                 106788 non-null  object \n",
      " 34  total_vaccinations                          85417 non-null   float64\n",
      " 35  people_vaccinated                           81132 non-null   float64\n",
      " 36  people_fully_vaccinated                     78061 non-null   float64\n",
      " 37  total_boosters                              53600 non-null   float64\n",
      " 38  new_vaccinations                            70971 non-null   float64\n",
      " 39  new_vaccinations_smoothed                   195029 non-null  float64\n",
      " 40  total_vaccinations_per_hundred              85417 non-null   float64\n",
      " 41  people_vaccinated_per_hundred               81132 non-null   float64\n",
      " 42  people_fully_vaccinated_per_hundred         78061 non-null   float64\n",
      " 43  total_boosters_per_hundred                  53600 non-null   float64\n",
      " 44  new_vaccinations_smoothed_per_million       195029 non-null  float64\n",
      " 45  new_people_vaccinated_smoothed              192177 non-null  float64\n",
      " 46  new_people_vaccinated_smoothed_per_hundred  192177 non-null  float64\n",
      " 47  stringency_index                            196190 non-null  float64\n",
      " 48  population_density                          360492 non-null  float64\n",
      " 49  median_age                                  334663 non-null  float64\n",
      " 50  aged_65_older                               323270 non-null  float64\n",
      " 51  aged_70_older                               331315 non-null  float64\n",
      " 52  gdp_per_capita                              328292 non-null  float64\n",
      " 53  extreme_poverty                             211996 non-null  float64\n",
      " 54  cardiovasc_death_rate                       328865 non-null  float64\n",
      " 55  diabetes_prevalence                         345911 non-null  float64\n",
      " 56  female_smokers                              247165 non-null  float64\n",
      " 57  male_smokers                                243817 non-null  float64\n",
      " 58  handwashing_facilities                      161741 non-null  float64\n",
      " 59  hospital_beds_per_thousand                  290689 non-null  float64\n",
      " 60  life_expectancy                             390299 non-null  float64\n",
      " 61  human_development_index                     319127 non-null  float64\n",
      " 62  population                                  429435 non-null  int64  \n",
      " 63  excess_mortality_cumulative_absolute        13411 non-null   float64\n",
      " 64  excess_mortality_cumulative                 13411 non-null   float64\n",
      " 65  excess_mortality                            13411 non-null   float64\n",
      " 66  excess_mortality_cumulative_per_million     13411 non-null   float64\n",
      "dtypes: float64(61), int64(1), object(5)\n",
      "memory usage: 219.5+ MB\n"
     ]
    }
   ],
   "source": [
    "#per avere piu' informazioni, uso il metodo .info()\n",
    "covid.info()"
   ]
  },
  {
   "cell_type": "code",
   "execution_count": 17,
   "id": "a85228ee-7efc-4344-9e77-58f967f2d6fb",
   "metadata": {},
   "outputs": [
    {
     "name": "stdout",
     "output_type": "stream",
     "text": [
      "ISO_CODE\n",
      "Tipo: object\n",
      "Numero di nulli: 0\n",
      "\n",
      "\n",
      "CONTINENT\n",
      "Tipo: object\n",
      "Numero di nulli: 26525\n",
      "\n",
      "\n",
      "LOCATION\n",
      "Tipo: object\n",
      "Numero di nulli: 0\n",
      "\n",
      "\n",
      "DATE\n",
      "Tipo: object\n",
      "Numero di nulli: 0\n",
      "\n",
      "\n",
      "TOTAL_CASES\n",
      "Tipo: float64\n",
      "Numero di nulli: 17631\n",
      "\n",
      "\n",
      "NEW_CASES\n",
      "Tipo: float64\n",
      "Numero di nulli: 19276\n",
      "\n",
      "\n",
      "NEW_CASES_SMOOTHED\n",
      "Tipo: float64\n",
      "Numero di nulli: 20506\n",
      "\n",
      "\n",
      "TOTAL_DEATHS\n",
      "Tipo: float64\n",
      "Numero di nulli: 17631\n",
      "\n",
      "\n",
      "NEW_DEATHS\n",
      "Tipo: float64\n",
      "Numero di nulli: 18827\n",
      "\n",
      "\n",
      "NEW_DEATHS_SMOOTHED\n",
      "Tipo: float64\n",
      "Numero di nulli: 20057\n",
      "\n",
      "\n",
      "TOTAL_CASES_PER_MILLION\n",
      "Tipo: float64\n",
      "Numero di nulli: 17631\n",
      "\n",
      "\n",
      "NEW_CASES_PER_MILLION\n",
      "Tipo: float64\n",
      "Numero di nulli: 19276\n",
      "\n",
      "\n",
      "NEW_CASES_SMOOTHED_PER_MILLION\n",
      "Tipo: float64\n",
      "Numero di nulli: 20506\n",
      "\n",
      "\n",
      "TOTAL_DEATHS_PER_MILLION\n",
      "Tipo: float64\n",
      "Numero di nulli: 17631\n",
      "\n",
      "\n",
      "NEW_DEATHS_PER_MILLION\n",
      "Tipo: float64\n",
      "Numero di nulli: 18827\n",
      "\n",
      "\n",
      "NEW_DEATHS_SMOOTHED_PER_MILLION\n",
      "Tipo: float64\n",
      "Numero di nulli: 20057\n",
      "\n",
      "\n",
      "REPRODUCTION_RATE\n",
      "Tipo: float64\n",
      "Numero di nulli: 244618\n",
      "\n",
      "\n",
      "ICU_PATIENTS\n",
      "Tipo: float64\n",
      "Numero di nulli: 390319\n",
      "\n",
      "\n",
      "ICU_PATIENTS_PER_MILLION\n",
      "Tipo: float64\n",
      "Numero di nulli: 390319\n",
      "\n",
      "\n",
      "HOSP_PATIENTS\n",
      "Tipo: float64\n",
      "Numero di nulli: 388779\n",
      "\n",
      "\n",
      "HOSP_PATIENTS_PER_MILLION\n",
      "Tipo: float64\n",
      "Numero di nulli: 388779\n",
      "\n",
      "\n",
      "WEEKLY_ICU_ADMISSIONS\n",
      "Tipo: float64\n",
      "Numero di nulli: 418442\n",
      "\n",
      "\n",
      "WEEKLY_ICU_ADMISSIONS_PER_MILLION\n",
      "Tipo: float64\n",
      "Numero di nulli: 418442\n",
      "\n",
      "\n",
      "WEEKLY_HOSP_ADMISSIONS\n",
      "Tipo: float64\n",
      "Numero di nulli: 404938\n",
      "\n",
      "\n",
      "WEEKLY_HOSP_ADMISSIONS_PER_MILLION\n",
      "Tipo: float64\n",
      "Numero di nulli: 404938\n",
      "\n",
      "\n",
      "TOTAL_TESTS\n",
      "Tipo: float64\n",
      "Numero di nulli: 350048\n",
      "\n",
      "\n",
      "NEW_TESTS\n",
      "Tipo: float64\n",
      "Numero di nulli: 354032\n",
      "\n",
      "\n",
      "TOTAL_TESTS_PER_THOUSAND\n",
      "Tipo: float64\n",
      "Numero di nulli: 350048\n",
      "\n",
      "\n",
      "NEW_TESTS_PER_THOUSAND\n",
      "Tipo: float64\n",
      "Numero di nulli: 354032\n",
      "\n",
      "\n",
      "NEW_TESTS_SMOOTHED\n",
      "Tipo: float64\n",
      "Numero di nulli: 325470\n",
      "\n",
      "\n",
      "NEW_TESTS_SMOOTHED_PER_THOUSAND\n",
      "Tipo: float64\n",
      "Numero di nulli: 325470\n",
      "\n",
      "\n",
      "POSITIVE_RATE\n",
      "Tipo: float64\n",
      "Numero di nulli: 333508\n",
      "\n",
      "\n",
      "TESTS_PER_CASE\n",
      "Tipo: float64\n",
      "Numero di nulli: 335087\n",
      "\n",
      "\n",
      "TESTS_UNITS\n",
      "Tipo: object\n",
      "Numero di nulli: 322647\n",
      "\n",
      "\n",
      "TOTAL_VACCINATIONS\n",
      "Tipo: float64\n",
      "Numero di nulli: 344018\n",
      "\n",
      "\n",
      "PEOPLE_VACCINATED\n",
      "Tipo: float64\n",
      "Numero di nulli: 348303\n",
      "\n",
      "\n",
      "PEOPLE_FULLY_VACCINATED\n",
      "Tipo: float64\n",
      "Numero di nulli: 351374\n",
      "\n",
      "\n",
      "TOTAL_BOOSTERS\n",
      "Tipo: float64\n",
      "Numero di nulli: 375835\n",
      "\n",
      "\n",
      "NEW_VACCINATIONS\n",
      "Tipo: float64\n",
      "Numero di nulli: 358464\n",
      "\n",
      "\n",
      "NEW_VACCINATIONS_SMOOTHED\n",
      "Tipo: float64\n",
      "Numero di nulli: 234406\n",
      "\n",
      "\n",
      "TOTAL_VACCINATIONS_PER_HUNDRED\n",
      "Tipo: float64\n",
      "Numero di nulli: 344018\n",
      "\n",
      "\n",
      "PEOPLE_VACCINATED_PER_HUNDRED\n",
      "Tipo: float64\n",
      "Numero di nulli: 348303\n",
      "\n",
      "\n",
      "PEOPLE_FULLY_VACCINATED_PER_HUNDRED\n",
      "Tipo: float64\n",
      "Numero di nulli: 351374\n",
      "\n",
      "\n",
      "TOTAL_BOOSTERS_PER_HUNDRED\n",
      "Tipo: float64\n",
      "Numero di nulli: 375835\n",
      "\n",
      "\n",
      "NEW_VACCINATIONS_SMOOTHED_PER_MILLION\n",
      "Tipo: float64\n",
      "Numero di nulli: 234406\n",
      "\n",
      "\n",
      "NEW_PEOPLE_VACCINATED_SMOOTHED\n",
      "Tipo: float64\n",
      "Numero di nulli: 237258\n",
      "\n",
      "\n",
      "NEW_PEOPLE_VACCINATED_SMOOTHED_PER_HUNDRED\n",
      "Tipo: float64\n",
      "Numero di nulli: 237258\n",
      "\n",
      "\n",
      "STRINGENCY_INDEX\n",
      "Tipo: float64\n",
      "Numero di nulli: 233245\n",
      "\n",
      "\n",
      "POPULATION_DENSITY\n",
      "Tipo: float64\n",
      "Numero di nulli: 68943\n",
      "\n",
      "\n",
      "MEDIAN_AGE\n",
      "Tipo: float64\n",
      "Numero di nulli: 94772\n",
      "\n",
      "\n",
      "AGED_65_OLDER\n",
      "Tipo: float64\n",
      "Numero di nulli: 106165\n",
      "\n",
      "\n",
      "AGED_70_OLDER\n",
      "Tipo: float64\n",
      "Numero di nulli: 98120\n",
      "\n",
      "\n",
      "GDP_PER_CAPITA\n",
      "Tipo: float64\n",
      "Numero di nulli: 101143\n",
      "\n",
      "\n",
      "EXTREME_POVERTY\n",
      "Tipo: float64\n",
      "Numero di nulli: 217439\n",
      "\n",
      "\n",
      "CARDIOVASC_DEATH_RATE\n",
      "Tipo: float64\n",
      "Numero di nulli: 100570\n",
      "\n",
      "\n",
      "DIABETES_PREVALENCE\n",
      "Tipo: float64\n",
      "Numero di nulli: 83524\n",
      "\n",
      "\n",
      "FEMALE_SMOKERS\n",
      "Tipo: float64\n",
      "Numero di nulli: 182270\n",
      "\n",
      "\n",
      "MALE_SMOKERS\n",
      "Tipo: float64\n",
      "Numero di nulli: 185618\n",
      "\n",
      "\n",
      "HANDWASHING_FACILITIES\n",
      "Tipo: float64\n",
      "Numero di nulli: 267694\n",
      "\n",
      "\n",
      "HOSPITAL_BEDS_PER_THOUSAND\n",
      "Tipo: float64\n",
      "Numero di nulli: 138746\n",
      "\n",
      "\n",
      "LIFE_EXPECTANCY\n",
      "Tipo: float64\n",
      "Numero di nulli: 39136\n",
      "\n",
      "\n",
      "HUMAN_DEVELOPMENT_INDEX\n",
      "Tipo: float64\n",
      "Numero di nulli: 110308\n",
      "\n",
      "\n",
      "POPULATION\n",
      "Tipo: int64\n",
      "Numero di nulli: 0\n",
      "\n",
      "\n",
      "EXCESS_MORTALITY_CUMULATIVE_ABSOLUTE\n",
      "Tipo: float64\n",
      "Numero di nulli: 416024\n",
      "\n",
      "\n",
      "EXCESS_MORTALITY_CUMULATIVE\n",
      "Tipo: float64\n",
      "Numero di nulli: 416024\n",
      "\n",
      "\n",
      "EXCESS_MORTALITY\n",
      "Tipo: float64\n",
      "Numero di nulli: 416024\n",
      "\n",
      "\n",
      "EXCESS_MORTALITY_CUMULATIVE_PER_MILLION\n",
      "Tipo: float64\n",
      "Numero di nulli: 416024\n",
      "\n",
      "\n"
     ]
    }
   ],
   "source": [
    "#per informazioni piu' dettagliate sul numero di elementi nulli per colonna, oltre al tipo dei dati, uso:\n",
    "for col in covid.columns:\n",
    "    print(col.upper()) \n",
    "    print(f\"Tipo: {covid[col].dtype}\")\n",
    "    print(f\"Numero di nulli: {covid[col].isna().sum()}\")\n",
    "    print(\"\\n\")"
   ]
  },
  {
   "cell_type": "code",
   "execution_count": null,
   "id": "cac16845-466f-4840-8d88-81c48544d2e6",
   "metadata": {},
   "outputs": [],
   "source": []
  },
  {
   "cell_type": "code",
   "execution_count": 20,
   "id": "0801e9cb-03b2-4ca3-8651-c7c74ce40e3d",
   "metadata": {},
   "outputs": [],
   "source": [
    "#2.a) per ogni continente, numero di casi fin dall'inizio della pandemia"
   ]
  },
  {
   "cell_type": "code",
   "execution_count": 22,
   "id": "23e8a4be-7a97-44be-8c07-8180f69a839b",
   "metadata": {},
   "outputs": [
    {
     "data": {
      "text/plain": [
       "continent\n",
       "Africa            13146831.0\n",
       "Asia             301564180.0\n",
       "Europe           252916868.0\n",
       "North America    124492698.0\n",
       "Oceania           15003468.0\n",
       "South America     68811012.0\n",
       "Name: new_cases, dtype: float64"
      ]
     },
     "execution_count": 22,
     "metadata": {},
     "output_type": "execute_result"
    }
   ],
   "source": [
    "#la viariabile (colonna) che mi interessa e' \"new_cases\"\n",
    "#raggruppo per continente e faccio la somma di \"new_cases\"\n",
    "covid.groupby(\"continent\")[\"new_cases\"].sum()"
   ]
  },
  {
   "cell_type": "code",
   "execution_count": 24,
   "id": "ebee90e7-c1ab-4d78-8616-0ef4de0da001",
   "metadata": {},
   "outputs": [],
   "source": [
    "#2.b) per ogni continente, la percentuale rispetto al totale mondiale del numero di casi"
   ]
  },
  {
   "cell_type": "code",
   "execution_count": 26,
   "id": "f59b7ed0-c824-4a88-9704-5bc9583e9774",
   "metadata": {},
   "outputs": [
    {
     "data": {
      "text/plain": [
       "continent\n",
       "Africa            1.69\n",
       "Asia             38.86\n",
       "Europe           32.60\n",
       "North America    16.04\n",
       "Oceania           1.93\n",
       "South America     8.87\n",
       "Name: new_cases, dtype: float64"
      ]
     },
     "execution_count": 26,
     "metadata": {},
     "output_type": "execute_result"
    }
   ],
   "source": [
    "#raggruppo per continente e prendo la somma di \"new_cases\". Per il totale mondiale dei casi faccio un'ulteriore somma su tutti i continenti\n",
    "(covid.groupby(\"continent\")[\"new_cases\"].sum()/covid.groupby(\"continent\")[\"new_cases\"].sum().sum()*100).round(2)"
   ]
  },
  {
   "cell_type": "markdown",
   "id": "5f66ad4e-2929-4017-a75f-bfda46c41d9c",
   "metadata": {},
   "source": [
    "N.B.: La somma delle percentuali non è precisamente 100 perché ho arrotondato a due cifre decimali nel passaggio precedente."
   ]
  },
  {
   "cell_type": "code",
   "execution_count": 29,
   "id": "070403a3-014a-4647-8530-f1ffbea18320",
   "metadata": {},
   "outputs": [
    {
     "data": {
      "text/plain": [
       "99.99000000000001"
      ]
     },
     "execution_count": 29,
     "metadata": {},
     "output_type": "execute_result"
    }
   ],
   "source": [
    "#somma delle percentuali relative ai vari continenti:\n",
    "(covid.groupby(\"continent\")[\"new_cases\"].sum()/covid.groupby(\"continent\")[\"new_cases\"].sum().sum()*100).round(2).sum()"
   ]
  },
  {
   "cell_type": "code",
   "execution_count": null,
   "id": "8006a963-216f-4e6f-a982-4d3b5367a439",
   "metadata": {},
   "outputs": [],
   "source": []
  },
  {
   "cell_type": "code",
   "execution_count": 32,
   "id": "3ad48199-a055-4244-a823-b3ba7008e9a9",
   "metadata": {},
   "outputs": [],
   "source": [
    "#3) Selezionare i dati relativi all'Italia nel 2022"
   ]
  },
  {
   "cell_type": "code",
   "execution_count": 34,
   "id": "d3b7b476-f810-4cec-ac17-3fdae9606b75",
   "metadata": {},
   "outputs": [
    {
     "data": {
      "text/plain": [
       "0        2020-01-05\n",
       "1        2020-01-06\n",
       "2        2020-01-07\n",
       "3        2020-01-08\n",
       "4        2020-01-09\n",
       "            ...    \n",
       "429430   2024-07-31\n",
       "429431   2024-08-01\n",
       "429432   2024-08-02\n",
       "429433   2024-08-03\n",
       "429434   2024-08-04\n",
       "Name: date_t, Length: 429435, dtype: datetime64[ns]"
      ]
     },
     "execution_count": 34,
     "metadata": {},
     "output_type": "execute_result"
    }
   ],
   "source": [
    "#le date in \"date\" sono in formato object\n",
    "#le trasformo in formato datetime e le salvo nella colonna \"date_t\"\n",
    "covid[\"date_t\"] = pd.to_datetime(covid[\"date\"])\n",
    "covid.date_t"
   ]
  },
  {
   "cell_type": "code",
   "execution_count": 36,
   "id": "35cf5413-f8f8-46a9-b518-b239078f4b9a",
   "metadata": {},
   "outputs": [],
   "source": [
    "#filtro i dati relativi all'Italia e al 2022\n",
    "filtro_it_22 = (covid.location == \"Italy\") & (covid.date_t.dt.year == 2022)"
   ]
  },
  {
   "cell_type": "code",
   "execution_count": 38,
   "id": "180e268d-990d-480b-a3f2-91df184b7a03",
   "metadata": {},
   "outputs": [
    {
     "data": {
      "text/html": [
       "<div>\n",
       "<style scoped>\n",
       "    .dataframe tbody tr th:only-of-type {\n",
       "        vertical-align: middle;\n",
       "    }\n",
       "\n",
       "    .dataframe tbody tr th {\n",
       "        vertical-align: top;\n",
       "    }\n",
       "\n",
       "    .dataframe thead th {\n",
       "        text-align: right;\n",
       "    }\n",
       "</style>\n",
       "<table border=\"1\" class=\"dataframe\">\n",
       "  <thead>\n",
       "    <tr style=\"text-align: right;\">\n",
       "      <th></th>\n",
       "      <th>location</th>\n",
       "      <th>date</th>\n",
       "    </tr>\n",
       "  </thead>\n",
       "  <tbody>\n",
       "    <tr>\n",
       "      <th>186002</th>\n",
       "      <td>Italy</td>\n",
       "      <td>2022-01-01</td>\n",
       "    </tr>\n",
       "    <tr>\n",
       "      <th>186003</th>\n",
       "      <td>Italy</td>\n",
       "      <td>2022-01-02</td>\n",
       "    </tr>\n",
       "    <tr>\n",
       "      <th>186004</th>\n",
       "      <td>Italy</td>\n",
       "      <td>2022-01-03</td>\n",
       "    </tr>\n",
       "    <tr>\n",
       "      <th>186005</th>\n",
       "      <td>Italy</td>\n",
       "      <td>2022-01-04</td>\n",
       "    </tr>\n",
       "    <tr>\n",
       "      <th>186006</th>\n",
       "      <td>Italy</td>\n",
       "      <td>2022-01-05</td>\n",
       "    </tr>\n",
       "    <tr>\n",
       "      <th>...</th>\n",
       "      <td>...</td>\n",
       "      <td>...</td>\n",
       "    </tr>\n",
       "    <tr>\n",
       "      <th>186362</th>\n",
       "      <td>Italy</td>\n",
       "      <td>2022-12-27</td>\n",
       "    </tr>\n",
       "    <tr>\n",
       "      <th>186363</th>\n",
       "      <td>Italy</td>\n",
       "      <td>2022-12-28</td>\n",
       "    </tr>\n",
       "    <tr>\n",
       "      <th>186364</th>\n",
       "      <td>Italy</td>\n",
       "      <td>2022-12-29</td>\n",
       "    </tr>\n",
       "    <tr>\n",
       "      <th>186365</th>\n",
       "      <td>Italy</td>\n",
       "      <td>2022-12-30</td>\n",
       "    </tr>\n",
       "    <tr>\n",
       "      <th>186366</th>\n",
       "      <td>Italy</td>\n",
       "      <td>2022-12-31</td>\n",
       "    </tr>\n",
       "  </tbody>\n",
       "</table>\n",
       "<p>365 rows × 2 columns</p>\n",
       "</div>"
      ],
      "text/plain": [
       "       location        date\n",
       "186002    Italy  2022-01-01\n",
       "186003    Italy  2022-01-02\n",
       "186004    Italy  2022-01-03\n",
       "186005    Italy  2022-01-04\n",
       "186006    Italy  2022-01-05\n",
       "...         ...         ...\n",
       "186362    Italy  2022-12-27\n",
       "186363    Italy  2022-12-28\n",
       "186364    Italy  2022-12-29\n",
       "186365    Italy  2022-12-30\n",
       "186366    Italy  2022-12-31\n",
       "\n",
       "[365 rows x 2 columns]"
      ]
     },
     "execution_count": 38,
     "metadata": {},
     "output_type": "execute_result"
    }
   ],
   "source": [
    "#verifico la selezione\n",
    "covid.loc[filtro_it_22,[\"location\",\"date\"]]"
   ]
  },
  {
   "cell_type": "code",
   "execution_count": 40,
   "id": "e6a531b1-e6b1-4d08-9df9-a70a39d4875b",
   "metadata": {},
   "outputs": [],
   "source": [
    "#3.a) ...  mostrare con dei grafici adeguati l'evoluzione del casi totali dall'inizio alla fine dell'anno"
   ]
  },
  {
   "cell_type": "code",
   "execution_count": 42,
   "id": "5ad450a9-35d1-424e-9970-f3e2c459c9f2",
   "metadata": {},
   "outputs": [
    {
     "data": {
      "text/plain": [
       "<Axes: title={'center': 'Serie temporale dei casi totali in Italia (2022)'}, xlabel='Data', ylabel='No. casi totali'>"
      ]
     },
     "execution_count": 42,
     "metadata": {},
     "output_type": "execute_result"
    },
    {
     "data": {
      "image/png": "[encoded data removed]",
      "text/plain": [
       "<Figure size 640x480 with 1 Axes>"
      ]
     },
     "metadata": {},
     "output_type": "display_data"
    }
   ],
   "source": [
    "#serie temporale dei casi totali, o grafico comulativo dei nuovi casi\n",
    "covid.loc[filtro_it_22].plot(x=\"date_t\",y=\"total_cases\", title=\"Serie temporale dei casi totali in Italia (2022)\", xlabel=\"Data\", ylabel=\"No. casi totali\")"
   ]
  },
  {
   "cell_type": "markdown",
   "id": "8a316172-f6ef-4d88-bc22-9d7d6a4d6de2",
   "metadata": {},
   "source": [
    "* Qui si vede che il numero di casi totali rimane costante all'interno di ciascuna settimana. Ha senso allora filtrare via i dati che non hanno misurazioni prima di andare a mostrare la serie temporale dei nuovi casi."
   ]
  },
  {
   "cell_type": "code",
   "execution_count": 45,
   "id": "fd5195aa-c9d3-4008-8d89-1d2052650167",
   "metadata": {},
   "outputs": [],
   "source": [
    "#filtro via i dati che non hanno misurazioni, cioè prendo solo i dati con \"new_cases\">0\n",
    "filtro_it_22_nc0 = (covid.location == \"Italy\") & (covid.date_t.dt.year == 2022) & (covid.new_cases>0)"
   ]
  },
  {
   "cell_type": "code",
   "execution_count": 47,
   "id": "60cd3167-e1f5-434b-9f20-0752987f90a1",
   "metadata": {},
   "outputs": [
    {
     "data": {
      "text/plain": [
       "(52, 68)"
      ]
     },
     "execution_count": 47,
     "metadata": {},
     "output_type": "execute_result"
    }
   ],
   "source": [
    "#verifico\n",
    "covid.loc[filtro_it_22_nc0].shape"
   ]
  },
  {
   "cell_type": "markdown",
   "id": "bfe258a3-bc3a-410c-b342-7a9ce87908ae",
   "metadata": {},
   "source": [
    "* Il dataframe filtrato contiente solo 52 righe. Ha senso dato che ci sono 52 settimane in un anno e un solo dato di \"new_cases\" è >0 per ogni settimana."
   ]
  },
  {
   "cell_type": "code",
   "execution_count": 51,
   "id": "de1fcf01-13f3-49c3-b6e6-274ec2605ded",
   "metadata": {},
   "outputs": [],
   "source": [
    "# 3.b) ... il numero di nuovi casi rispetto alla data"
   ]
  },
  {
   "cell_type": "code",
   "execution_count": 53,
   "id": "839b88c8-5ff1-4673-b754-dde3d0139cae",
   "metadata": {},
   "outputs": [
    {
     "data": {
      "text/plain": [
       "<Axes: title={'center': 'Serie temporale dei nuovi casi in Italia (2022)'}, xlabel='Data', ylabel='No. nuovi casi'>"
      ]
     },
     "execution_count": 53,
     "metadata": {},
     "output_type": "execute_result"
    },
    {
     "data": {
      "image/png": "[encoded data removed]",
      "text/plain": [
       "<Figure size 640x480 with 1 Axes>"
      ]
     },
     "metadata": {},
     "output_type": "display_data"
    }
   ],
   "source": [
    "#serie temporale dei nuovi casi\n",
    "covid.loc[filtro_it_22_nc0].plot(x=\"date_t\",y=\"new_cases\", title=\"Serie temporale dei nuovi casi in Italia (2022)\", xlabel=\"Data\", ylabel=\"No. nuovi casi\")"
   ]
  },
  {
   "cell_type": "code",
   "execution_count": 55,
   "id": "f77dce41-334a-43e6-a56a-3252feb6e801",
   "metadata": {},
   "outputs": [
    {
     "data": {
      "text/plain": [
       "<Axes: title={'center': 'Serie temporale dei casi totali in Italia (2022)'}, xlabel='Data', ylabel='No. casi totali'>"
      ]
     },
     "execution_count": 55,
     "metadata": {},
     "output_type": "execute_result"
    },
    {
     "data": {
      "image/png": "[encoded data removed]",
      "text/plain": [
       "<Figure size 640x480 with 1 Axes>"
      ]
     },
     "metadata": {},
     "output_type": "display_data"
    }
   ],
   "source": [
    "#a questo punto rifaccio il grafico dei casi totali, usando il filtro \"new_cases\">0\n",
    "covid.loc[filtro_it_22_nc0].plot(x=\"date_t\",y=\"total_cases\", title=\"Serie temporale dei casi totali in Italia (2022)\", xlabel=\"Data\", ylabel=\"No. casi totali\")"
   ]
  },
  {
   "cell_type": "markdown",
   "id": "2009b001-9326-4056-9263-72a00c4ab14e",
   "metadata": {},
   "source": [
    "* Il grafico non presenta più gli scalini di prima ma è una linea continua dato che abbiamo rimosso le istanze in cui c'erano degli stessi valori all'interno della stessa settimana."
   ]
  },
  {
   "cell_type": "code",
   "execution_count": null,
   "id": "f6fa11a5-c48b-4218-8c18-43282dd4598c",
   "metadata": {},
   "outputs": [],
   "source": []
  },
  {
   "cell_type": "code",
   "execution_count": 62,
   "id": "f8fc93ac-3626-4eed-98da-f6e75f430ba8",
   "metadata": {},
   "outputs": [],
   "source": [
    "#4.) Riguardo le nazioni di Italia, Germania e Francia mostrare in un boxplot la differenza tra queste nazioni \n",
    "#riguardo il numero di pazienti in terapia intensiva (Intensive Care Unit, ICU) da maggio 2022 (incluso) ad aprile 2023 (incluso)"
   ]
  },
  {
   "cell_type": "code",
   "execution_count": 64,
   "id": "4d457fcd-e52a-4ed1-8365-0a82759b3840",
   "metadata": {},
   "outputs": [],
   "source": [
    "#creo le due date che mi servono e le converto in formato datetime\n",
    "date1 = \"01-05-2022\"\n",
    "date2 = \"01-05-2023\"\n",
    "date1 = pd.to_datetime(date1, dayfirst=True)\n",
    "date2 = pd.to_datetime(date2, dayfirst=True)"
   ]
  },
  {
   "cell_type": "code",
   "execution_count": 66,
   "id": "3c517524-7489-46cf-92ed-8a1daecf624e",
   "metadata": {},
   "outputs": [
    {
     "name": "stdout",
     "output_type": "stream",
     "text": [
      "2022-05-01 00:00:00\n",
      "<class 'pandas._libs.tslibs.timestamps.Timestamp'>\n",
      "2023-05-01 00:00:00\n",
      "<class 'pandas._libs.tslibs.timestamps.Timestamp'>\n"
     ]
    }
   ],
   "source": [
    "#verifico le date\n",
    "print(date1)\n",
    "print(type(date1))\n",
    "print(date2)\n",
    "print(type(date2))"
   ]
  },
  {
   "cell_type": "code",
   "execution_count": 68,
   "id": "44b98ab4-fe54-4209-b0c7-0725cd7c680a",
   "metadata": {},
   "outputs": [],
   "source": [
    "#creo un filtro per i paesi interessati e l'intervallo temporale\n",
    "filtro_IGF_mag22_apr23 = ((covid.location==\"Italy\") | (covid.location==\"Germany\") | (covid.location==\"France\")) & (covid.date_t >= date1) & (covid.date_t <date2)"
   ]
  },
  {
   "cell_type": "code",
   "execution_count": 70,
   "id": "5a379882-1388-4089-ba32-f17b25af9d47",
   "metadata": {},
   "outputs": [
    {
     "data": {
      "text/html": [
       "<div>\n",
       "<style scoped>\n",
       "    .dataframe tbody tr th:only-of-type {\n",
       "        vertical-align: middle;\n",
       "    }\n",
       "\n",
       "    .dataframe tbody tr th {\n",
       "        vertical-align: top;\n",
       "    }\n",
       "\n",
       "    .dataframe thead th {\n",
       "        text-align: right;\n",
       "    }\n",
       "</style>\n",
       "<table border=\"1\" class=\"dataframe\">\n",
       "  <thead>\n",
       "    <tr style=\"text-align: right;\">\n",
       "      <th></th>\n",
       "      <th>location</th>\n",
       "      <th>date</th>\n",
       "    </tr>\n",
       "  </thead>\n",
       "  <tbody>\n",
       "    <tr>\n",
       "      <th>131214</th>\n",
       "      <td>France</td>\n",
       "      <td>2022-05-01</td>\n",
       "    </tr>\n",
       "    <tr>\n",
       "      <th>131215</th>\n",
       "      <td>France</td>\n",
       "      <td>2022-05-02</td>\n",
       "    </tr>\n",
       "    <tr>\n",
       "      <th>131216</th>\n",
       "      <td>France</td>\n",
       "      <td>2022-05-03</td>\n",
       "    </tr>\n",
       "    <tr>\n",
       "      <th>131217</th>\n",
       "      <td>France</td>\n",
       "      <td>2022-05-04</td>\n",
       "    </tr>\n",
       "    <tr>\n",
       "      <th>131218</th>\n",
       "      <td>France</td>\n",
       "      <td>2022-05-05</td>\n",
       "    </tr>\n",
       "    <tr>\n",
       "      <th>...</th>\n",
       "      <td>...</td>\n",
       "      <td>...</td>\n",
       "    </tr>\n",
       "    <tr>\n",
       "      <th>186482</th>\n",
       "      <td>Italy</td>\n",
       "      <td>2023-04-26</td>\n",
       "    </tr>\n",
       "    <tr>\n",
       "      <th>186483</th>\n",
       "      <td>Italy</td>\n",
       "      <td>2023-04-27</td>\n",
       "    </tr>\n",
       "    <tr>\n",
       "      <th>186484</th>\n",
       "      <td>Italy</td>\n",
       "      <td>2023-04-28</td>\n",
       "    </tr>\n",
       "    <tr>\n",
       "      <th>186485</th>\n",
       "      <td>Italy</td>\n",
       "      <td>2023-04-29</td>\n",
       "    </tr>\n",
       "    <tr>\n",
       "      <th>186486</th>\n",
       "      <td>Italy</td>\n",
       "      <td>2023-04-30</td>\n",
       "    </tr>\n",
       "  </tbody>\n",
       "</table>\n",
       "<p>1095 rows × 2 columns</p>\n",
       "</div>"
      ],
      "text/plain": [
       "       location        date\n",
       "131214   France  2022-05-01\n",
       "131215   France  2022-05-02\n",
       "131216   France  2022-05-03\n",
       "131217   France  2022-05-04\n",
       "131218   France  2022-05-05\n",
       "...         ...         ...\n",
       "186482    Italy  2023-04-26\n",
       "186483    Italy  2023-04-27\n",
       "186484    Italy  2023-04-28\n",
       "186485    Italy  2023-04-29\n",
       "186486    Italy  2023-04-30\n",
       "\n",
       "[1095 rows x 2 columns]"
      ]
     },
     "execution_count": 70,
     "metadata": {},
     "output_type": "execute_result"
    }
   ],
   "source": [
    "#verifico il filtro\n",
    "covid.loc[filtro_IGF_mag22_apr23,[\"location\",\"date\"]]"
   ]
  },
  {
   "cell_type": "code",
   "execution_count": 72,
   "id": "0efa6873-6e39-47c3-972b-df45dd92a6c3",
   "metadata": {},
   "outputs": [
    {
     "data": {
      "text/plain": [
       "Text(0.5, 1.0, 'Box Plot dei pazienti in ICU per paese')"
      ]
     },
     "execution_count": 72,
     "metadata": {},
     "output_type": "execute_result"
    },
    {
     "data": {
      "image/png": "[encoded data removed]",
      "text/plain": [
       "<Figure size 640x480 with 1 Axes>"
      ]
     },
     "metadata": {},
     "output_type": "display_data"
    }
   ],
   "source": [
    "#creo il boxplot\n",
    "sns.boxplot(data=covid[filtro_IGF_mag22_apr23], x=\"location\", y=\"icu_patients\")\n",
    "plt.xlabel('Paese')\n",
    "plt.ylabel('Pazienti in ICU')\n",
    "plt.title('Box Plot dei pazienti in ICU per paese')"
   ]
  },
  {
   "cell_type": "markdown",
   "id": "d98586a2-bd66-4b0c-bd41-1ed6ac765231",
   "metadata": {},
   "source": [
    "* Tra maggio 2022 e aprile 2023 in Italia c'è stato un numero significativamente più basso di pazienti in ICU rispetto a Francia e Germania. La mediana dei pazienti in ICU per l'Italia è circa un quarto rispetto a quella degli altri due paesi ed anche la variabilità dei dati per l'Italia è minore (l'intervallo tra il quartile di ordine 0.25 e il quartile di ordine 0.75 è più stretto).\n",
    "\n",
    "* Lo si potrebbe spiegare con la popolazione più bassa dell'Italia rispetto agli altri due paesi."
   ]
  },
  {
   "cell_type": "code",
   "execution_count": 76,
   "id": "4bc2d945-de05-4c0f-8a73-91d9219c58a0",
   "metadata": {},
   "outputs": [
    {
     "data": {
      "text/plain": [
       "Text(0.5, 1.0, 'Box Plot dei pazienti in ICU per milione per paese')"
      ]
     },
     "execution_count": 76,
     "metadata": {},
     "output_type": "execute_result"
    },
    {
     "data": {
      "image/png": "[encoded data removed]",
      "text/plain": [
       "<Figure size 640x480 with 1 Axes>"
      ]
     },
     "metadata": {},
     "output_type": "display_data"
    }
   ],
   "source": [
    "#andiamo a guardare \"icu_patients_per_million\"\n",
    "sns.boxplot(data=covid[filtro_IGF_mag22_apr23], x=\"location\", y=\"icu_patients_per_million\")\n",
    "plt.xlabel('Paese')\n",
    "plt.ylabel('Pazienti in ICU per milione')\n",
    "plt.title('Box Plot dei pazienti in ICU per milione per paese')"
   ]
  },
  {
   "cell_type": "markdown",
   "id": "53d56902-4db4-4c2b-a969-7a48ad44ad98",
   "metadata": {},
   "source": [
    "* Anche il numero di pazienti in ICU (normalizzato per milione di abitanti) è significativamente più basso per l'Italia rispetto agli altri due paesi. Si può concludere che l'Italia ha ammesso in ICU molti meno pazieni rispetto a Francia e Germania tra il maggio 2022 e aprile 2023."
   ]
  },
  {
   "cell_type": "code",
   "execution_count": null,
   "id": "40f7a892-148f-42e0-a4cf-475f4170e0f5",
   "metadata": {},
   "outputs": [],
   "source": []
  },
  {
   "cell_type": "code",
   "execution_count": 80,
   "id": "facffc74-e989-4158-81a2-4d7c284d8f39",
   "metadata": {},
   "outputs": [],
   "source": [
    "#5.) Riguardo le nazioni di Italia, Germania, Francia e Spagna in tutto il 2023:"
   ]
  },
  {
   "cell_type": "code",
   "execution_count": 82,
   "id": "1cefbdf5-0f09-45ab-bb16-7757a3c4dc1b",
   "metadata": {},
   "outputs": [],
   "source": [
    "#filtro i dati per i paesi interessati e l'anno 2023\n",
    "filtro_IGFS_23 = ((covid.location==\"Italy\") | (covid.location==\"Germany\") | (covid.location==\"France\") | (covid.location==\"Spain\")) & (covid.date_t.dt.year == 2023)"
   ]
  },
  {
   "cell_type": "code",
   "execution_count": 84,
   "id": "1676a028-be80-41f1-a8a8-66f4dd5869a3",
   "metadata": {},
   "outputs": [],
   "source": [
    "#5.a) mostrare la somma dei pazienti ospitalizzati per ognuna\n",
    "#5.b) se ci sono dati nulli, con un breve commento scrivere se può essere possibile gestirli tramite sostituzione o meno"
   ]
  },
  {
   "cell_type": "code",
   "execution_count": 86,
   "id": "5c3578e8-4aa2-4d49-85bc-dc8abf0e89c8",
   "metadata": {},
   "outputs": [
    {
     "data": {
      "text/plain": [
       "location\n",
       "France     268117.0\n",
       "Germany    897776.0\n",
       "Italy      592019.0\n",
       "Spain      299463.0\n",
       "Name: weekly_hosp_admissions, dtype: float64"
      ]
     },
     "execution_count": 86,
     "metadata": {},
     "output_type": "execute_result"
    }
   ],
   "source": [
    "#la variabile (colonna) che ci interessa è \"weekly_hosp_admissions\" (pazienti ospitalizzati per settimana). Raggruppo per paese e poi sommo su tutte le istanze di ospitalizzazione del 2023, cioè su tutte le settimane:\n",
    "covid.loc[filtro_IGFS_23].groupby(\"location\")[\"weekly_hosp_admissions\"].sum()"
   ]
  },
  {
   "cell_type": "markdown",
   "id": "5c6ebacf-4d12-4076-9075-ac4517409e87",
   "metadata": {},
   "source": [
    "* La prima considerazione da fare è che ha senso che ci sia un solo dato non nullo di \"weekly_hosp_admissions\" per ogni settimana di dati raccolti, dato che le ammissioni in ospedale venivano registrate con cadenza settimanale. Però potrebbero esserci altri dati nulli."
   ]
  },
  {
   "cell_type": "code",
   "execution_count": 90,
   "id": "fdea9b41-d214-4121-935c-89c2f60de62c",
   "metadata": {},
   "outputs": [
    {
     "data": {
      "text/plain": [
       "Text(0.5, 0, 'Data')"
      ]
     },
     "execution_count": 90,
     "metadata": {},
     "output_type": "execute_result"
    },
    {
     "data": {
      "image/png": "[encoded data removed]",
      "text/plain": [
       "<Figure size 640x480 with 1 Axes>"
      ]
     },
     "metadata": {},
     "output_type": "display_data"
    }
   ],
   "source": [
    "#andiamo a vedere se ci sono altri dati nulli in \"weekly_hosp_admissions\"\n",
    "sns.lineplot(data=covid.loc[filtro_IGFS_23], x=\"date_t\", y=\"weekly_hosp_admissions\", hue=\"location\")\n",
    "plt.ylabel(\"Nuove ammissioni in ospedale\")\n",
    "plt.xlabel(\"Data\")"
   ]
  },
  {
   "cell_type": "markdown",
   "id": "68ddb162-d5ee-4340-beb1-73a5f74ed479",
   "metadata": {},
   "source": [
    "* Solo per l'Italia sono presenti dati per l'intero anno. Per gli altri paesi i dati si interrompono ad aprile (Francia) o ad inizio estate (Spagna e Germania).\n",
    "\n",
    "* Sembra che le ammissioni in ospedale per covid terminino nell'estate 2023 per Spagna e Germania. In questo caso sostituirei i dati nulli dopo l'interruzione con degli zeri. Altrimenti, considerando non plausibile l'azzeramento delle ammissioni in ospedale dovute al covid, potrei sostituire i dati nulli con i valori dell'Italia o di un altro paese europeo.\n",
    "\n",
    "* Per la Francia, l'interruzione dei dati sembra piu' repentina. Sostituirei i valori nulli di \"weekly_hosp_admissions\" con i valori disponibili fino all'estate di Germania o Spagna. O potrei usare una media dei dati di Germania, Spagna e Italia fino a inizio estate. Per la seconda parte del 2023 vale lo stesso ragionamento fatto sopra."
   ]
  },
  {
   "cell_type": "markdown",
   "id": "62428a4e-f8f8-41a1-a224-de6321538422",
   "metadata": {},
   "source": [
    "* Un'altra opzione sarebbe quella di considerare la variabile \"hosp_patients\" che rappresenta il numero totale dei pazienti ospitalizzati ad una determinata data.\n",
    "\n",
    "* Il numero totale di pazienti ospitalizzati si dovrebbe calcolare in questo modo: \n",
    "\n",
    "    pazienti totali (settimana attuale) = pazienti totali (settimana precedente) + nuovi pazienti ospitalizzati - pazienti dimessi - pazienti morti in ospedale\n",
    "\n",
    "* Dato che non vedo il numero di pazienti dimessi e morti in ospedale nel dataset, userei come stima dei pazienti ospitalizzati la differenza dei pazienti totali (\"hosp_patients\") tra la settiamana considerata e la settimana precedente."
   ]
  },
  {
   "cell_type": "code",
   "execution_count": 94,
   "id": "6e52cb53-db6a-4bb2-9c04-63d82b506153",
   "metadata": {},
   "outputs": [
    {
     "data": {
      "text/plain": [
       "Text(0.5, 0, 'Data')"
      ]
     },
     "execution_count": 94,
     "metadata": {},
     "output_type": "execute_result"
    },
    {
     "data": {
      "image/png": "[encoded data removed]",
      "text/plain": [
       "<Figure size 640x480 with 1 Axes>"
      ]
     },
     "metadata": {},
     "output_type": "display_data"
    }
   ],
   "source": [
    "#diamo un'occhiata a \"hosp_patients\"\n",
    "sns.lineplot(data=covid.loc[filtro_IGFS_23], x=\"date_t\", y=\"hosp_patients\", hue=\"location\")\n",
    "plt.ylabel(\"Totale pazienti in ospedale\")\n",
    "plt.xlabel(\"Data\")"
   ]
  },
  {
   "cell_type": "markdown",
   "id": "94ab5d99-4fce-4871-8329-6bb6cc563653",
   "metadata": {},
   "source": [
    "* Non abbiamo dati di \"hosp_patients\" per la Germania per l'intero 2023. Inoltre non abbiamo dati per la Francia dopo aprile 2023 e per la Spagna dopo giugno 2023. Quindi non possiamo utilizzare \"hosp_patients\" per sostituire \"weekly_hosp_admissions\" per la seconda parte del 2023."
   ]
  },
  {
   "cell_type": "code",
   "execution_count": null,
   "id": "095e8a3c-e480-441c-a122-ef4a59927e3a",
   "metadata": {},
   "outputs": [],
   "source": []
  }
 ],
 "metadata": {
  "kernelspec": {
   "display_name": "Python [conda env:base] *",
   "language": "python",
   "name": "conda-base-py"
  },
  "language_info": {
   "codemirror_mode": {
    "name": "ipython",
    "version": 3
   },
   "file_extension": ".py",
   "mimetype": "text/x-python",
   "name": "python",
   "nbconvert_exporter": "python",
   "pygments_lexer": "ipython3",
   "version": "3.12.7"
  }
 },
 "nbformat": 4,
 "nbformat_minor": 5
}
